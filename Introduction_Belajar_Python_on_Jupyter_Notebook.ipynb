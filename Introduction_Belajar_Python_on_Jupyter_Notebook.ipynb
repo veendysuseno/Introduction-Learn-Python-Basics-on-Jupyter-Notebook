{
 "cells": [
  {
   "cell_type": "code",
   "execution_count": 59,
   "id": "8204e13a",
   "metadata": {},
   "outputs": [
    {
     "name": "stdout",
     "output_type": "stream",
     "text": [
      "Hallo Veendy, Selamat datang, semangat belajarnya ya Beb :)\n"
     ]
    }
   ],
   "source": [
    "print(\"Hallo Veendy, Selamat datang, semangat belajarnya ya Beb :)\")"
   ]
  },
  {
   "cell_type": "code",
   "execution_count": 68,
   "id": "f4c29653",
   "metadata": {},
   "outputs": [
    {
     "name": "stdout",
     "output_type": "stream",
     "text": [
      "Hello, Ganteng !!!\n"
     ]
    }
   ],
   "source": [
    "print('Hello, Ganteng !!!')"
   ]
  },
  {
   "cell_type": "markdown",
   "id": "3d967a8a",
   "metadata": {},
   "source": [
    "### Contoh Pengkondisian If Else Sederhana"
   ]
  },
  {
   "cell_type": "code",
   "execution_count": 6,
   "id": "b420fc23",
   "metadata": {},
   "outputs": [
    {
     "name": "stdout",
     "output_type": "stream",
     "text": [
      "Sudah memiliki KTP\n",
      "Sudah dewasa\n"
     ]
    }
   ],
   "source": [
    "usia = 25\n",
    "if usia >=17:\n",
    "    print(\"Sudah memiliki KTP\")\n",
    "    print(\"Sudah dewasa\")\n",
    "else:\n",
    "    print(\"Belum bisa memiliki KTP\")\n",
    "    print(\"Masih dibawah umur\")"
   ]
  },
  {
   "cell_type": "markdown",
   "id": "4deb11ce",
   "metadata": {},
   "source": [
    "## Membuat program sederhana Luas Persegi Panjang"
   ]
  },
  {
   "cell_type": "code",
   "execution_count": 12,
   "id": "a989ba62",
   "metadata": {},
   "outputs": [
    {
     "name": "stdout",
     "output_type": "stream",
     "text": [
      "Masukkan panjang = 20\n",
      "Masukkan lebar = 10\n",
      "Luas persegi panjang =  200.0 m^2\n"
     ]
    }
   ],
   "source": [
    "#Masukkanlah data panjang dan lebar dari Bangun Persegi Panjang berikut:\n",
    "panjang = float(input('Masukkan panjang = '))\n",
    "lebar = float(input('Masukkan lebar = '))\n",
    "#Hitung Luas\n",
    "luas = (panjang*lebar)\n",
    "#Cetak Luas\n",
    "print('Luas persegi panjang = ', luas, 'm^2')"
   ]
  },
  {
   "cell_type": "markdown",
   "id": "375580b4",
   "metadata": {},
   "source": [
    "# Pengkondisian pada Python"
   ]
  },
  {
   "cell_type": "code",
   "execution_count": 34,
   "id": "b25a8781",
   "metadata": {},
   "outputs": [
    {
     "name": "stdout",
     "output_type": "stream",
     "text": [
      "Masukkan Nama = Budi\n",
      "Masukkan Nilai = 63\n",
      "Budi Maaf Kamu tidak lulus\n"
     ]
    }
   ],
   "source": [
    "#Masukkan nilai\n",
    "nama = str(input('Masukkan Nama = '))\n",
    "nilai = float(input('Masukkan Nilai = '))\n",
    "#kondisi, contoh cek kelulusan siswa\n",
    "if(nilai >= 70):\n",
    "    print(nama,'Selamat Anda lulus')\n",
    "elif(nilai >= 64):\n",
    "    print(nama,'Kamu harus mengikuti perbaikan')\n",
    "else:\n",
    "    print(nama,'Maaf Kamu tidak lulus')"
   ]
  },
  {
   "cell_type": "markdown",
   "id": "f75ff4e6",
   "metadata": {},
   "source": [
    "## Pengulangan dengan while"
   ]
  },
  {
   "cell_type": "code",
   "execution_count": 49,
   "id": "b6944cf9",
   "metadata": {},
   "outputs": [
    {
     "name": "stdout",
     "output_type": "stream",
     "text": [
      "Perungan ke- 1\n",
      "Perungan ke- 2\n",
      "Perungan ke- 3\n",
      "Perungan ke- 4\n",
      "Perungan ke- 5\n",
      "Perungan ke- 6\n",
      "Perungan ke- 7\n",
      "Perungan ke- 8\n",
      "Perungan ke- 9\n",
      "Perulangan Selesai\n"
     ]
    }
   ],
   "source": [
    "#Contoh pengulangan dengan while (Contoh While ke-1)\n",
    "ulang = 1\n",
    "while(ulang <= 9):\n",
    "    print('Perungan ke-',ulang)\n",
    "    ulang+=1 #ini sama seperti ulang = ulang + 1\n",
    "print(\"Perulangan Selesai\")"
   ]
  },
  {
   "cell_type": "code",
   "execution_count": 53,
   "id": "b424d6bc",
   "metadata": {},
   "outputs": [
    {
     "name": "stdout",
     "output_type": "stream",
     "text": [
      "Masukkan jumlah perulangan: 30\n",
      "Perulangan ke- 1\n",
      "Perulangan ke- 2\n",
      "Perulangan ke- 3\n",
      "Perulangan ke- 4\n",
      "Perulangan ke- 5\n",
      "Perulangan ke- 6\n",
      "Perulangan ke- 7\n",
      "Perulangan ke- 8\n",
      "Perulangan ke- 9\n",
      "Perulangan ke- 10\n",
      "Perulangan ke- 11\n",
      "Perulangan ke- 12\n",
      "Perulangan ke- 13\n",
      "Perulangan ke- 14\n",
      "Perulangan ke- 15\n",
      "Perulangan ke- 16\n",
      "Perulangan ke- 17\n",
      "Perulangan ke- 18\n",
      "Perulangan ke- 19\n",
      "Perulangan ke- 20\n",
      "Perulangan ke- 21\n",
      "Perulangan ke- 22\n",
      "Perulangan ke- 23\n",
      "Perulangan ke- 24\n",
      "Perulangan ke- 25\n",
      "Perulangan ke- 26\n",
      "Perulangan ke- 27\n",
      "Perulangan ke- 28\n",
      "Perulangan ke- 29\n",
      "Perulangan ke- 30\n",
      "Perulangan Selesai\n"
     ]
    }
   ],
   "source": [
    "#Contoh pengulangan dengan while + permintaan berapa jumlah perulangan yang diminta user (Contoh While ke-2)\n",
    "\n",
    "#Meminta input jumlah perulangan dari pengguna\n",
    "jumlah_perulangan = int(input(\"Masukkan jumlah perulangan: \"))\n",
    "\n",
    "ulang = 1\n",
    "while(ulang <= jumlah_perulangan):\n",
    "    print('Perulangan ke-', ulang)\n",
    "    ulang += 1 # ini sama seperti ulang = ulang + 1\n",
    "\n",
    "print(\"Perulangan Selesai\")"
   ]
  },
  {
   "cell_type": "markdown",
   "id": "c11a6b5d",
   "metadata": {},
   "source": [
    "## Contoh Perulangan menggunakan For"
   ]
  },
  {
   "cell_type": "code",
   "execution_count": 54,
   "id": "40af083b",
   "metadata": {},
   "outputs": [
    {
     "name": "stdout",
     "output_type": "stream",
     "text": [
      "1\n",
      "3\n",
      "5\n",
      "7\n"
     ]
    }
   ],
   "source": [
    "#Contoh Perulangan For Sederhana\n",
    "ulang = [1,3,5,7]\n",
    "for x in ulang:\n",
    "    print(x)"
   ]
  },
  {
   "cell_type": "code",
   "execution_count": 55,
   "id": "f41bcfd8",
   "metadata": {},
   "outputs": [
    {
     "name": "stdout",
     "output_type": "stream",
     "text": [
      "Saya tugas piket dihari Senin\n",
      "Saya tugas piket dihari Rabu\n",
      "Saya tugas piket dihari Jumat\n"
     ]
    }
   ],
   "source": [
    "#Contoh Perulangan For lain.\n",
    "hari = ['Senin', 'Rabu', 'Jumat']\n",
    "for piket in hari:\n",
    "    print(\"Saya tugas piket dihari\", piket)"
   ]
  },
  {
   "cell_type": "markdown",
   "id": "6d6d36f0",
   "metadata": {},
   "source": [
    "#Rumus : for<target>in range(awal,akhir,range): pernyataan"
   ]
  },
  {
   "cell_type": "code",
   "execution_count": 56,
   "id": "e42d2aa5",
   "metadata": {},
   "outputs": [
    {
     "name": "stdout",
     "output_type": "stream",
     "text": [
      "perulangan ke- 5\n",
      "perulangan ke- 7\n",
      "perulangan ke- 9\n",
      "perulangan ke- 11\n",
      "perulangan ke- 13\n"
     ]
    }
   ],
   "source": [
    "#Implementasi rumus\n",
    "#Contoh lain perulangan for menggunakan range\n",
    "for x in range(5,15,2):\n",
    "    print('perulangan ke-',x)\n",
    "\n",
    "#Penjelasanya : Perulangan dimulai dari nilai awal 5 sampai nilai akhir 15 dengan step(kenaikan angka) sejumlah 2"
   ]
  },
  {
   "cell_type": "markdown",
   "id": "008253f4",
   "metadata": {},
   "source": [
    "#Perulangan Nested Loop (Nested Looping / Perulangan Bersarang)"
   ]
  },
  {
   "cell_type": "markdown",
   "id": "6b0bb8ac",
   "metadata": {},
   "source": [
    "#Rumus Nested Looping untuk menggunakan For:\n",
    "for <target> in <obyek>:\n",
    "    for<target> in <obyek>:\n",
    "        pernyataan\n",
    "    pernyataan"
   ]
  },
  {
   "cell_type": "markdown",
   "id": "c9a0a2eb",
   "metadata": {},
   "source": [
    "#Rumus Nested Looping untuk menggunakan While Loop:\n",
    "while <ekspresi>:\n",
    "    while <ekspresi>:\n",
    "        pernyataan\n",
    "    pernyataan"
   ]
  },
  {
   "cell_type": "code",
   "execution_count": 61,
   "id": "326bd918",
   "metadata": {},
   "outputs": [
    {
     "name": "stdout",
     "output_type": "stream",
     "text": [
      "nilai i= 0  j= 6\n",
      "nilai i= 0  j= 7\n",
      "nilai i= 0  j= 8\n",
      "nilai i= 0  j= 9\n",
      "\n",
      "nilai i= 1  j= 6\n",
      "nilai i= 1  j= 7\n",
      "nilai i= 1  j= 8\n",
      "nilai i= 1  j= 9\n",
      "\n"
     ]
    }
   ],
   "source": [
    "for i in range (2):\n",
    "    for j in range(6,10,1):\n",
    "        print(\"nilai i=\",i,\" j=\",j)\n",
    "    print()\n",
    "    \n",
    "#Penjelasan : "
   ]
  },
  {
   "cell_type": "code",
   "execution_count": 65,
   "id": "4a11d0a4",
   "metadata": {},
   "outputs": [
    {
     "name": "stdout",
     "output_type": "stream",
     "text": [
      "i: 1, j: 1\n",
      "i: 1, j: 2\n",
      "i: 1, j: 3\n",
      "i: 2, j: 1\n",
      "i: 2, j: 2\n",
      "i: 2, j: 3\n",
      "i: 3, j: 1\n",
      "i: 3, j: 2\n",
      "i: 3, j: 3\n"
     ]
    }
   ],
   "source": [
    "# Contoh Nested Looping dengan While Loop\n",
    "\n",
    "i = 1  # Inisialisasi variabel untuk loop pertama\n",
    "while i <= 3:  # Loop pertama berjalan selama i <= 3\n",
    "    j = 1  # Inisialisasi variabel untuk loop kedua\n",
    "    while j <= 3:  # Loop kedua berjalan selama j <= 3\n",
    "        print(f\"i: {i}, j: {j}\")  # Output nilai i dan j\n",
    "        j += 1  # Increment j untuk loop kedua\n",
    "    i += 1  # Increment i untuk loop pertama\n"
   ]
  },
  {
   "cell_type": "markdown",
   "id": "1553f162",
   "metadata": {},
   "source": [
    "# Fungsi pada Python"
   ]
  },
  {
   "cell_type": "markdown",
   "id": "770107ca",
   "metadata": {},
   "source": [
    "#Mendefinisikan fungsi di Python\n",
    "\n",
    "def namafungsi(argumen):\n",
    "    pernyataan1\n",
    "    pernyataan2\n",
    "    return[ekspresi]\n",
    "\n",
    "#argumen = input dari luar akan diproses di dalam fungsi\n",
    "#return = opsional berguna untuk mengembaliakn nilai ekspresi dari sebuah fungsii jika diperlukan"
   ]
  },
  {
   "cell_type": "code",
   "execution_count": 85,
   "id": "12acdbae",
   "metadata": {},
   "outputs": [],
   "source": [
    "#Membuat fungsi Sederhana pada Python\n",
    "def halo():\n",
    "    print(\"Hallo dunia, selamat bertemu, semoga harimu menyenangkan\")\n",
    "    print(\"Salam dari Jagakarsa, Jakarta Selatan, Perkenalkan saya Veendy\")\n",
    "    return"
   ]
  },
  {
   "cell_type": "code",
   "execution_count": 95,
   "id": "4eac8d06",
   "metadata": {},
   "outputs": [],
   "source": [
    "#Membuat Fungsi dengan argumen\n",
    "def luaspersegipanjang(panjang,lebar):\n",
    "    luas = panjang*lebar\n",
    "    print(\"Luas Persegi Panjang = \", luas)"
   ]
  },
  {
   "cell_type": "markdown",
   "id": "1a0c99e0",
   "metadata": {},
   "source": [
    "## Pemanggil Fungsi Sederhana"
   ]
  },
  {
   "cell_type": "code",
   "execution_count": 94,
   "id": "8bb17499",
   "metadata": {},
   "outputs": [
    {
     "name": "stdout",
     "output_type": "stream",
     "text": [
      "Hallo dunia, selamat bertemu, semoga harimu menyenangkan\n",
      "Salam dari Jagakarsa, Jakarta Selatan, Perkenalkan saya Veendy\n"
     ]
    }
   ],
   "source": [
    "#Cara memanggil Fungsi sederhana  (CARA PANGGIL FUNGSI)\n",
    "halo()"
   ]
  },
  {
   "cell_type": "markdown",
   "id": "6f5439ab",
   "metadata": {},
   "source": [
    "## Pemanggil Fungsi dengan Argumen "
   ]
  },
  {
   "cell_type": "code",
   "execution_count": 93,
   "id": "2a13bb43",
   "metadata": {},
   "outputs": [
    {
     "name": "stdout",
     "output_type": "stream",
     "text": [
      "Luas Persegi Panjang =  24\n"
     ]
    }
   ],
   "source": [
    "#Cara memanggil Fungsi dengan Argumen pada luaspersegipanjang (CARA PANGGIL FUNGSI)\n",
    "luaspersegipanjang(4,6)\n",
    "#dimana 4 sebagai nilai variabel input panjang, dan 6 sebagai nilai variabel input lebar."
   ]
  },
  {
   "cell_type": "code",
   "execution_count": 1,
   "id": "d1e24ab2",
   "metadata": {},
   "outputs": [
    {
     "name": "stdout",
     "output_type": "stream",
     "text": [
      "Luas1: 18\n"
     ]
    }
   ],
   "source": [
    "#Memanggil Fungsi yang mengembalikan Nilai\n",
    "\n",
    "def luaspersegipanjang1(panjang1,lebar1):\n",
    "    luas1=panjang1*lebar1\n",
    "    return luas1\n",
    "\n",
    "#Pemanggilan fungsi\n",
    "print (\"Luas1: %d\" % luaspersegipanjang1(6,3))"
   ]
  },
  {
   "cell_type": "markdown",
   "id": "9bc78f73",
   "metadata": {},
   "source": [
    "## Fungsi Rekursif = adalah fungsi yang memanggil dirinya sendiri, sehingga terjadilah perulangan di dalam fungsi tersebut."
   ]
  },
  {
   "cell_type": "markdown",
   "id": "201b24eb",
   "metadata": {},
   "source": [
    "#Contoh penggunaan Fungsi Rekursif"
   ]
  },
  {
   "cell_type": "code",
   "execution_count": 2,
   "id": "693ac3c4",
   "metadata": {},
   "outputs": [
    {
     "name": "stdout",
     "output_type": "stream",
     "text": [
      "Berapa Faktorial : 2\n",
      "0 ! = 1\n",
      "1 ! = 1\n",
      "2 ! = 2\n"
     ]
    }
   ],
   "source": [
    "#Contoh penggunaan Fungsi Rekursif\n",
    "\n",
    "#Fungsi Faktorial\n",
    "def faktorial(n):\n",
    "    if n<=1:\n",
    "        return 1\n",
    "    else:\n",
    "        return n * faktorial(n-1)\n",
    "    \n",
    "#Program Utama\n",
    "i = 0\n",
    "n = int(input(\"Berapa Faktorial : \"))\n",
    "\n",
    "while i<=n:\n",
    "    print(i,'! =', faktorial(i))\n",
    "    i+=1 #ini artinya i=i+1\n"
   ]
  },
  {
   "cell_type": "markdown",
   "id": "ecf2d09d",
   "metadata": {},
   "source": [
    "# Variabel Lokal\n",
    "#Variabel Lokal = variabel yang hanya bsa di akses di dalam  sebuah fungsi saja, dimana dia didefinisikan."
   ]
  },
  {
   "cell_type": "markdown",
   "id": "2eaafc90",
   "metadata": {},
   "source": [
    "# Variabel Global\n",
    "#Variabel Global dapat didefinikan variabel di luar fungsi sehingga memeiliki scope global (jangkauan global) bisa diakses dari mana saja. "
   ]
  },
  {
   "cell_type": "code",
   "execution_count": 3,
   "id": "38c058a2",
   "metadata": {},
   "outputs": [],
   "source": [
    "nama = \"Veendy Suseno\"\n",
    "alamat = \"Jakarta Selatan\""
   ]
  },
  {
   "cell_type": "code",
   "execution_count": 4,
   "id": "1520a919",
   "metadata": {},
   "outputs": [],
   "source": [
    "def testing():\n",
    "    # ini variabel lokal\n",
    "    nama = \"Zulfina Alfalah\"\n",
    "    alamat = \"Pekalongan Timur\"\n",
    "    # mengakses variabel lokal\n",
    "    print(\"Nama: %s\" % nama)\n",
    "    print(\"Alamat: %s\" % alamat)"
   ]
  },
  {
   "cell_type": "code",
   "execution_count": 5,
   "id": "913e6e52",
   "metadata": {},
   "outputs": [
    {
     "name": "stdout",
     "output_type": "stream",
     "text": [
      "VARIABEL GLOBAL\n",
      "Nama: Veendy Suseno\n",
      "Alamat: Jakarta Selatan\n"
     ]
    }
   ],
   "source": [
    "# Mengakses variabel global\n",
    "print(\"VARIABEL GLOBAL\")\n",
    "print(\"Nama: %s\" % nama)\n",
    "print(\"Alamat: %s\" % alamat)"
   ]
  },
  {
   "cell_type": "code",
   "execution_count": 6,
   "id": "9cc68ece",
   "metadata": {},
   "outputs": [
    {
     "name": "stdout",
     "output_type": "stream",
     "text": [
      "VARIABEL LOKAL\n",
      "Nama: Zulfina Alfalah\n",
      "Alamat: Pekalongan Timur\n"
     ]
    }
   ],
   "source": [
    "# Memanggil fungsi (fungsi testing()):\n",
    "print(\"VARIABEL LOKAL\")\n",
    "testing()"
   ]
  },
  {
   "cell_type": "code",
   "execution_count": 8,
   "id": "a0cab7b7",
   "metadata": {},
   "outputs": [
    {
     "name": "stdout",
     "output_type": "stream",
     "text": [
      "VARIABEL GLOBAL\n",
      "Nama: Veendy Suseno\n",
      "Alamat: Jakarta Selatan\n",
      "VARIABEL LOKAL\n",
      "Nama: Zulfina Alfalah\n",
      "Alamat: Pekalongan Timur\n"
     ]
    }
   ],
   "source": [
    "#Coba Digabungkan \n",
    "\n",
    "nama = \"Veendy Suseno\"\n",
    "alamat = \"Jakarta Selatan\"\n",
    "\n",
    "def testing():\n",
    "    # ini variabel lokal\n",
    "    nama = \"Zulfina Alfalah\"\n",
    "    alamat = \"Pekalongan Timur\"\n",
    "    # mengakses variabel lokal\n",
    "    print(\"Nama: %s\" % nama)\n",
    "    print(\"Alamat: %s\" % alamat)\n",
    "    \n",
    "# Mengakses variabel global\n",
    "print(\"VARIABEL GLOBAL\")\n",
    "print(\"Nama: %s\" % nama)\n",
    "print(\"Alamat: %s\" % alamat)\n",
    "\n",
    "# Memanggil fungsi (fungsi testing()):\n",
    "print(\"VARIABEL LOKAL\")\n",
    "testing()\n"
   ]
  },
  {
   "cell_type": "markdown",
   "id": "76c33d12",
   "metadata": {},
   "source": [
    "# Belajar Bab 7 Komputasi Matriks pada Python menggunakan Numpy"
   ]
  },
  {
   "cell_type": "markdown",
   "id": "671d94ee",
   "metadata": {},
   "source": [
    "## A. Membuat Matriks"
   ]
  },
  {
   "cell_type": "code",
   "execution_count": 35,
   "id": "0e9ff4f1",
   "metadata": {},
   "outputs": [],
   "source": [
    "#Membuat Matriks dengan memanggil numpy\n",
    "#import numpy library\n",
    "import numpy as np"
   ]
  },
  {
   "cell_type": "code",
   "execution_count": 10,
   "id": "6a92d65d",
   "metadata": {},
   "outputs": [
    {
     "data": {
      "text/plain": [
       "array([3, 5, 7])"
      ]
     },
     "execution_count": 10,
     "metadata": {},
     "output_type": "execute_result"
    }
   ],
   "source": [
    "#Membuat Array\n",
    "#Rumus = Nama_matriks = np.array([elemen_array])\n",
    "A = np.array([3,5,7])\n",
    "A"
   ]
  },
  {
   "cell_type": "code",
   "execution_count": 11,
   "id": "e3a0aba9",
   "metadata": {},
   "outputs": [
    {
     "data": {
      "text/plain": [
       "(3,)"
      ]
     },
     "execution_count": 11,
     "metadata": {},
     "output_type": "execute_result"
    }
   ],
   "source": [
    "#Untuk melihat dimensi dari array yang berupa (jumlah kolom dan baris)\n",
    "#Menggunakan Rumus atau perintah = Nama_shape.shape\n",
    "A.shape"
   ]
  },
  {
   "cell_type": "markdown",
   "id": "412a7108",
   "metadata": {},
   "source": [
    "#Keterangan: Contoh diatas menunjukkan bahwa Matriks A merupakan matriks 1 dimensi dengan (3 kolom, 0 baris)."
   ]
  },
  {
   "cell_type": "code",
   "execution_count": 12,
   "id": "9dfc0bcb",
   "metadata": {},
   "outputs": [
    {
     "data": {
      "text/plain": [
       "dtype('int32')"
      ]
     },
     "execution_count": 12,
     "metadata": {},
     "output_type": "execute_result"
    }
   ],
   "source": [
    "#Untuk melihat tipe data pada Matriks menggunakan perintah:\n",
    "A.dtype"
   ]
  },
  {
   "cell_type": "code",
   "execution_count": 13,
   "id": "82dfb942",
   "metadata": {},
   "outputs": [
    {
     "data": {
      "text/plain": [
       "array([[8.2, 7.5, 6. ],\n",
       "       [4. , 3.5, 3. ]])"
      ]
     },
     "execution_count": 13,
     "metadata": {},
     "output_type": "execute_result"
    }
   ],
   "source": [
    "## Berikut adalah contoh membuat array 2 dimensi dengan tipe data pecahan (float).\n",
    "B = np.array([[8.2,7.5,6],[4,3.5,3]])\n",
    "B"
   ]
  },
  {
   "cell_type": "code",
   "execution_count": 14,
   "id": "5dd04d71",
   "metadata": {},
   "outputs": [
    {
     "data": {
      "text/plain": [
       "(2, 3)"
      ]
     },
     "execution_count": 14,
     "metadata": {},
     "output_type": "execute_result"
    }
   ],
   "source": [
    "#Untuk melihat dimensi dari array yang berupa (jumlah kolom dan baris)\n",
    "#Menggunakan Rumus atau perintah = Nama_shape.shape\n",
    "B.shape"
   ]
  },
  {
   "cell_type": "code",
   "execution_count": 16,
   "id": "34a9644a",
   "metadata": {},
   "outputs": [
    {
     "data": {
      "text/plain": [
       "dtype('float64')"
      ]
     },
     "execution_count": 16,
     "metadata": {},
     "output_type": "execute_result"
    }
   ],
   "source": [
    "#Untuk melihat tipe data pada Matriks menggunakan perintah:\n",
    "B.dtype"
   ]
  },
  {
   "cell_type": "code",
   "execution_count": 17,
   "id": "98e72aa9",
   "metadata": {},
   "outputs": [
    {
     "data": {
      "text/plain": [
       "array([[2, 4],\n",
       "       [5, 8],\n",
       "       [7, 2]])"
      ]
     },
     "execution_count": 17,
     "metadata": {},
     "output_type": "execute_result"
    }
   ],
   "source": [
    "## Contoh Matriks 2 x 3\n",
    "C = np.array([[2,4],[5,8],[7,2]])\n",
    "C"
   ]
  },
  {
   "cell_type": "code",
   "execution_count": 26,
   "id": "d9899d5f",
   "metadata": {},
   "outputs": [
    {
     "data": {
      "text/plain": [
       "array([[1, 2, 3],\n",
       "       [4, 1, 8],\n",
       "       [3, 7, 2]])"
      ]
     },
     "execution_count": 26,
     "metadata": {},
     "output_type": "execute_result"
    }
   ],
   "source": [
    "## Contoh Matriks 3 x 3\n",
    "D = np.array([[1,2,3],[4,1,8],[3,7,2]])\n",
    "D"
   ]
  },
  {
   "cell_type": "markdown",
   "id": "4555ee55",
   "metadata": {},
   "source": [
    "## B. Elemen Matriks"
   ]
  },
  {
   "cell_type": "code",
   "execution_count": 44,
   "id": "2b791e15",
   "metadata": {},
   "outputs": [
    {
     "name": "stdout",
     "output_type": "stream",
     "text": [
      "Matrik E:\n"
     ]
    },
    {
     "data": {
      "text/plain": [
       "array([[2, 4],\n",
       "       [5, 8],\n",
       "       [7, 2]])"
      ]
     },
     "execution_count": 44,
     "metadata": {},
     "output_type": "execute_result"
    }
   ],
   "source": [
    "E = np.array([[2,4],[5,8],[7,2]])\n",
    "print (\"Matrik E:\")\n",
    "E"
   ]
  },
  {
   "cell_type": "code",
   "execution_count": 52,
   "id": "f8482eca",
   "metadata": {},
   "outputs": [
    {
     "name": "stdout",
     "output_type": "stream",
     "text": [
      "Elemen Matriks Baris 3 Kolom 2 pada Matrik E adalah = \n"
     ]
    },
    {
     "data": {
      "text/plain": [
       "2"
      ]
     },
     "execution_count": 52,
     "metadata": {},
     "output_type": "execute_result"
    }
   ],
   "source": [
    "E = np.array([[2,4],[5,8],[7,2]])\n",
    "print(\"Elemen Matriks Baris 3 Kolom 2 pada Matrik E adalah = \")\n",
    "E [2,1] #Jika ingin mengambil nilai matriks E elemen baris 3 kolom 2, maka dapat ditulis dengan E[2,1],\n",
    "#mengingat array dimulai dari indeks 0."
   ]
  },
  {
   "cell_type": "code",
   "execution_count": 53,
   "id": "71f6a3ba",
   "metadata": {},
   "outputs": [
    {
     "data": {
      "text/plain": [
       "(3, 2)"
      ]
     },
     "execution_count": 53,
     "metadata": {},
     "output_type": "execute_result"
    }
   ],
   "source": [
    "E.shape #Dimensi array (kolom,baris)"
   ]
  },
  {
   "cell_type": "markdown",
   "id": "f2183587",
   "metadata": {},
   "source": [
    "## C. Operasi Matriks"
   ]
  },
  {
   "cell_type": "markdown",
   "id": "d4d3aca0",
   "metadata": {},
   "source": [
    "#Penjumlahan Matriks"
   ]
  },
  {
   "cell_type": "code",
   "execution_count": 58,
   "id": "af4d11d7",
   "metadata": {},
   "outputs": [
    {
     "data": {
      "text/plain": [
       "array([[2, 4],\n",
       "       [5, 8],\n",
       "       [7, 2]])"
      ]
     },
     "execution_count": 58,
     "metadata": {},
     "output_type": "execute_result"
    }
   ],
   "source": [
    "F = np.array([[2,4],[5,8],[7,2]])\n",
    "F"
   ]
  },
  {
   "cell_type": "code",
   "execution_count": 59,
   "id": "36df5b64",
   "metadata": {},
   "outputs": [
    {
     "data": {
      "text/plain": [
       "array([[1, 3],\n",
       "       [2, 4],\n",
       "       [5, 2]])"
      ]
     },
     "execution_count": 59,
     "metadata": {},
     "output_type": "execute_result"
    }
   ],
   "source": [
    "G = np.array([[1,3],[2,4],[5,2]])\n",
    "G"
   ]
  },
  {
   "cell_type": "code",
   "execution_count": 61,
   "id": "2571f283",
   "metadata": {},
   "outputs": [
    {
     "data": {
      "text/plain": [
       "array([[ 3,  7],\n",
       "       [ 7, 12],\n",
       "       [12,  4]])"
      ]
     },
     "execution_count": 61,
     "metadata": {},
     "output_type": "execute_result"
    }
   ],
   "source": [
    "#Penjumlahan Matriks F + Matriks G\n",
    "F + G"
   ]
  },
  {
   "cell_type": "code",
   "execution_count": 64,
   "id": "602f842c",
   "metadata": {},
   "outputs": [
    {
     "data": {
      "text/plain": [
       "array([[12, 14],\n",
       "       [15, 18],\n",
       "       [17, 12]])"
      ]
     },
     "execution_count": 64,
     "metadata": {},
     "output_type": "execute_result"
    }
   ],
   "source": [
    "#Lalu bila F + 10\n",
    "F+10"
   ]
  },
  {
   "cell_type": "markdown",
   "id": "d71b7c06",
   "metadata": {},
   "source": [
    "#Pengurangan Matriks F- G"
   ]
  },
  {
   "cell_type": "code",
   "execution_count": 65,
   "id": "405e51eb",
   "metadata": {},
   "outputs": [
    {
     "data": {
      "text/plain": [
       "array([[1, 1],\n",
       "       [3, 4],\n",
       "       [2, 0]])"
      ]
     },
     "execution_count": 65,
     "metadata": {},
     "output_type": "execute_result"
    }
   ],
   "source": [
    "F-G"
   ]
  },
  {
   "cell_type": "markdown",
   "id": "bdce9f09",
   "metadata": {},
   "source": [
    "#Perkalian dan Pembagian pada Matriks"
   ]
  },
  {
   "cell_type": "code",
   "execution_count": 66,
   "id": "07b88606",
   "metadata": {},
   "outputs": [
    {
     "data": {
      "text/plain": [
       "array([[20, 40],\n",
       "       [50, 80],\n",
       "       [70, 20]])"
      ]
     },
     "execution_count": 66,
     "metadata": {},
     "output_type": "execute_result"
    }
   ],
   "source": [
    "#Perkalian Matriks dengan angka tertentu\n",
    "F * 10"
   ]
  },
  {
   "cell_type": "code",
   "execution_count": 67,
   "id": "1de73069",
   "metadata": {},
   "outputs": [
    {
     "data": {
      "text/plain": [
       "array([[ 2, 12],\n",
       "       [10, 32],\n",
       "       [35,  4]])"
      ]
     },
     "execution_count": 67,
     "metadata": {},
     "output_type": "execute_result"
    }
   ],
   "source": [
    "#PErkalian 2 buah Matriks\n",
    "F * G"
   ]
  },
  {
   "cell_type": "code",
   "execution_count": 69,
   "id": "74c3102a",
   "metadata": {},
   "outputs": [
    {
     "data": {
      "text/plain": [
       "array([[1. , 2. ],\n",
       "       [2.5, 4. ],\n",
       "       [3.5, 1. ]])"
      ]
     },
     "execution_count": 69,
     "metadata": {},
     "output_type": "execute_result"
    }
   ],
   "source": [
    "#Perkalian Matriks dengan Skalar\n",
    "F/2"
   ]
  },
  {
   "cell_type": "code",
   "execution_count": 70,
   "id": "9972c0f7",
   "metadata": {},
   "outputs": [
    {
     "data": {
      "text/plain": [
       "array([[2.        , 1.33333333],\n",
       "       [2.5       , 2.        ],\n",
       "       [1.4       , 1.        ]])"
      ]
     },
     "execution_count": 70,
     "metadata": {},
     "output_type": "execute_result"
    }
   ],
   "source": [
    "#Pembagian dengan 2 buah Matriks:\n",
    "F/G"
   ]
  },
  {
   "cell_type": "markdown",
   "id": "8a860f04",
   "metadata": {},
   "source": [
    "#Operasi SUM digunakan untuk menjumlahkan semua elemen."
   ]
  },
  {
   "cell_type": "code",
   "execution_count": 71,
   "id": "6b151b73",
   "metadata": {},
   "outputs": [
    {
     "data": {
      "text/plain": [
       "array([[2, 4],\n",
       "       [5, 8],\n",
       "       [7, 2]])"
      ]
     },
     "execution_count": 71,
     "metadata": {},
     "output_type": "execute_result"
    }
   ],
   "source": [
    "F = np.array([[2,4],[5,8],[7,2]])\n",
    "F"
   ]
  },
  {
   "cell_type": "code",
   "execution_count": 72,
   "id": "39bf2162",
   "metadata": {},
   "outputs": [
    {
     "data": {
      "text/plain": [
       "28"
      ]
     },
     "execution_count": 72,
     "metadata": {},
     "output_type": "execute_result"
    }
   ],
   "source": [
    "# Sum untuk semua elemen\n",
    "np.sum(F)"
   ]
  },
  {
   "cell_type": "code",
   "execution_count": 73,
   "id": "94918e37",
   "metadata": {},
   "outputs": [
    {
     "data": {
      "text/plain": [
       "array([14, 14])"
      ]
     },
     "execution_count": 73,
     "metadata": {},
     "output_type": "execute_result"
    }
   ],
   "source": [
    "#Sum untuk elemen axis\n",
    "np.sum(F, axis=0)"
   ]
  },
  {
   "cell_type": "code",
   "execution_count": 78,
   "id": "48a15cb3",
   "metadata": {},
   "outputs": [
    {
     "data": {
      "text/plain": [
       "array([ 6, 13,  9])"
      ]
     },
     "execution_count": 78,
     "metadata": {},
     "output_type": "execute_result"
    }
   ],
   "source": [
    "#Sum untuk elemen axis\n",
    "np.sum(F, axis=1)"
   ]
  },
  {
   "cell_type": "code",
   "execution_count": 79,
   "id": "c9726ac4",
   "metadata": {},
   "outputs": [],
   "source": [
    "## Transpose matriks merupakan matriks yang dioperasikan dengan melakukan pertukaran elemen baris menjadi kolom dan elemen kolom menjadi baris dari matriks awalnya. Notasi dari matriks transpose biasanya dengan AT."
   ]
  },
  {
   "cell_type": "code",
   "execution_count": 77,
   "id": "d367192b",
   "metadata": {},
   "outputs": [
    {
     "data": {
      "text/plain": [
       "array([[2, 5, 7],\n",
       "       [4, 8, 2]])"
      ]
     },
     "execution_count": 77,
     "metadata": {},
     "output_type": "execute_result"
    }
   ],
   "source": [
    "#Operasi Transppose\n",
    "F.T"
   ]
  },
  {
   "cell_type": "markdown",
   "id": "dfefe1b7",
   "metadata": {},
   "source": [
    "# C. Operasi Statistik Dasar "
   ]
  },
  {
   "cell_type": "code",
   "execution_count": 80,
   "id": "cacb938d",
   "metadata": {},
   "outputs": [
    {
     "data": {
      "text/plain": [
       "7.0"
      ]
     },
     "execution_count": 80,
     "metadata": {},
     "output_type": "execute_result"
    }
   ],
   "source": [
    "#MEAN (Rata-rata)\n",
    "nilai = np.array([7,6,8,9,5])\n",
    "np.mean(nilai)"
   ]
  },
  {
   "cell_type": "code",
   "execution_count": 82,
   "id": "76f0d935",
   "metadata": {},
   "outputs": [
    {
     "data": {
      "text/plain": [
       "7.0"
      ]
     },
     "execution_count": 82,
     "metadata": {},
     "output_type": "execute_result"
    }
   ],
   "source": [
    "#MEDIAN (Nilai Tengah)\n",
    "nilai = np.array([7,6,8,9,5])\n",
    "np.median(nilai)"
   ]
  },
  {
   "cell_type": "code",
   "execution_count": 84,
   "id": "5486d6e0",
   "metadata": {},
   "outputs": [
    {
     "data": {
      "text/plain": [
       "1.7204650534085253"
      ]
     },
     "execution_count": 84,
     "metadata": {},
     "output_type": "execute_result"
    }
   ],
   "source": [
    "#Standar Deviasi\n",
    "nilai = np.array([7,6,8,9,5,7,6,7,4,3])\n",
    "np.std(nilai)"
   ]
  },
  {
   "cell_type": "code",
   "execution_count": 85,
   "id": "aa6c212d",
   "metadata": {},
   "outputs": [
    {
     "data": {
      "text/plain": [
       "9"
      ]
     },
     "execution_count": 85,
     "metadata": {},
     "output_type": "execute_result"
    }
   ],
   "source": [
    "#NILAI MAKSIMUM DAN MINIMUM PADA ARRAY\n",
    "#NILAI MAKSIMUM\n",
    "nilai = np.array([7,6,8,9,5,7,6,7,4,3])\n",
    "np.max(nilai)"
   ]
  },
  {
   "cell_type": "code",
   "execution_count": 86,
   "id": "bd25d1b1",
   "metadata": {},
   "outputs": [
    {
     "data": {
      "text/plain": [
       "3"
      ]
     },
     "execution_count": 86,
     "metadata": {},
     "output_type": "execute_result"
    }
   ],
   "source": [
    "#NILAI MINIMUM\n",
    "nilai = np.array([7,6,8,9,5,7,6,7,4,3])\n",
    "np.min(nilai)"
   ]
  }
 ],
 "metadata": {
  "kernelspec": {
   "display_name": "Python 3",
   "language": "python",
   "name": "python3"
  },
  "language_info": {
   "codemirror_mode": {
    "name": "ipython",
    "version": 3
   },
   "file_extension": ".py",
   "mimetype": "text/x-python",
   "name": "python",
   "nbconvert_exporter": "python",
   "pygments_lexer": "ipython3",
   "version": "3.8.8"
  }
 },
 "nbformat": 4,
 "nbformat_minor": 5
}
